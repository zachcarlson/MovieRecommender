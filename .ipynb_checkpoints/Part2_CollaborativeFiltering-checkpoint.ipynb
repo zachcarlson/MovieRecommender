{
 "cells": [
  {
   "cell_type": "markdown",
   "metadata": {
    "id": "yXb04qg5puTf"
   },
   "source": [
    "# Movie Recommender: Part 2: Collaborative Filtering"
   ]
  },
  {
   "cell_type": "markdown",
   "metadata": {
    "id": "iL9o-YMepyNT"
   },
   "source": [
    "This Jupyter Notebook is part 2 of 3 to create a Recommender System using PySpark and the [MovieLens](https://grouplens.org/datasets/movielens/) dataset from GroupLens.   It uses the small dataset for education and development, which contains ~100,000 ratings from ~9,000 movies by ~600 users.  It was last updated September 2018 (as of 3/3/2022).  The ratings were created between March 29th, 1996 and September 24th, 2018.  More information can be found [here](https://files.grouplens.org/datasets/movielens/ml-latest-small-README.html).\n",
    "\n",
    "We are interested in creating a recommender system that can accurately predict the ratings of movies for a given user.  We will be using collaborative-filtering first.\n",
    "\n",
    "**Note**: The culmination of this project is a separate journal-formatted paper, so this Jupyter Notebook will have less text than usual.\n",
    "\n",
    "**Notebook breakdown:**\n",
    "- **Part 1:** Importing and EDA\n",
    "- **Part 2:** Collaborative Filtering\n",
    "- **Part 3:** Content-based Filtering"
   ]
  },
  {
   "cell_type": "markdown",
   "metadata": {
    "id": "5Kh1gU6Jp02p"
   },
   "source": [
    "## Configuration:"
   ]
  },
  {
   "cell_type": "code",
   "execution_count": 1,
   "metadata": {
    "colab": {
     "base_uri": "https://localhost:8080/"
    },
    "executionInfo": {
     "elapsed": 1488,
     "status": "ok",
     "timestamp": 1646434718223,
     "user": {
      "displayName": "Zach Carlson",
      "photoUrl": "https://lh3.googleusercontent.com/a-/AOh14GgGGS1PKMV2r8fg-mGiEbM29TOg1SBR8iwMW1PjI3g=s64",
      "userId": "10863465888675209886"
     },
     "user_tz": 300
    },
    "id": "vRQykAgzpNEn",
    "outputId": "bf7edfce-7b77-464b-d7f9-42e55cd8187f"
   },
   "outputs": [
    {
     "name": "stdout",
     "output_type": "stream",
     "text": [
      "Drive already mounted at /content/drive; to attempt to forcibly remount, call drive.mount(\"/content/drive\", force_remount=True).\n"
     ]
    }
   ],
   "source": [
    "from google.colab import drive\n",
    "drive.mount('/content/drive')"
   ]
  },
  {
   "cell_type": "code",
   "execution_count": 2,
   "metadata": {
    "executionInfo": {
     "elapsed": 6,
     "status": "ok",
     "timestamp": 1646434718224,
     "user": {
      "displayName": "Zach Carlson",
      "photoUrl": "https://lh3.googleusercontent.com/a-/AOh14GgGGS1PKMV2r8fg-mGiEbM29TOg1SBR8iwMW1PjI3g=s64",
      "userId": "10863465888675209886"
     },
     "user_tz": 300
    },
    "id": "GJtK2jmhp2Gi"
   },
   "outputs": [],
   "source": [
    "INPUT_DIRECTORY = \"/content/drive/MyDrive/Grad School/DSCI 632/MovieRecommender/data/\" #for google mount\n",
    "# INPUT_DIRECTORY = \"./data/\" #for jupyter notebook"
   ]
  },
  {
   "cell_type": "code",
   "execution_count": 3,
   "metadata": {
    "executionInfo": {
     "elapsed": 24098,
     "status": "ok",
     "timestamp": 1646434742318,
     "user": {
      "displayName": "Zach Carlson",
      "photoUrl": "https://lh3.googleusercontent.com/a-/AOh14GgGGS1PKMV2r8fg-mGiEbM29TOg1SBR8iwMW1PjI3g=s64",
      "userId": "10863465888675209886"
     },
     "user_tz": 300
    },
    "id": "wByVAUQlp4hK"
   },
   "outputs": [],
   "source": [
    "%%capture \n",
    "#prevent large printout with %%capture\n",
    "\n",
    "#Download Java\n",
    "!apt-get install openjdk-8-jdk-headless -qq > /dev/null\n",
    "\n",
    "#Install Apache Spark 3.2.1 with Hadoop 3.2, get zipped folder\n",
    "!wget -q https://dlcdn.apache.org/spark/spark-3.2.1/spark-3.2.1-bin-hadoop3.2.tgz\n",
    "\n",
    "#Unzip folder\n",
    "!tar xvf spark-3.2.1-bin-hadoop3.2.tgz\n",
    "\n",
    "#Install findspark, pyspark 3.2.1\n",
    "!pip install -q findspark\n",
    "!pip install pyspark==3.2.1\n",
    "\n",
    "#Set variables\n",
    "import os\n",
    "os.environ[\"JAVA_HOME\"] = \"/usr/lib/jvm/java-8-openjdk-amd64\"\n",
    "os.environ[\"SPARK_HOME\"] = \"spark-3.2.1-bin-hadoop3.2\""
   ]
  },
  {
   "cell_type": "markdown",
   "metadata": {
    "id": "21Fm5S72p7eM"
   },
   "source": [
    "## Load Packages and Functions"
   ]
  },
  {
   "cell_type": "code",
   "execution_count": 4,
   "metadata": {
    "executionInfo": {
     "elapsed": 441,
     "status": "ok",
     "timestamp": 1646434742755,
     "user": {
      "displayName": "Zach Carlson",
      "photoUrl": "https://lh3.googleusercontent.com/a-/AOh14GgGGS1PKMV2r8fg-mGiEbM29TOg1SBR8iwMW1PjI3g=s64",
      "userId": "10863465888675209886"
     },
     "user_tz": 300
    },
    "id": "ISbHW4E3p7uV"
   },
   "outputs": [],
   "source": [
    "from pyspark import SparkContext\n",
    "from pyspark.ml.evaluation import RegressionEvaluator\n",
    "from pyspark.ml.recommendation import ALS\n",
    "from pyspark.ml.tuning import CrossValidator\n",
    "from pyspark.ml.tuning import ParamGridBuilder\n",
    "from pyspark.sql import SparkSession"
   ]
  },
  {
   "cell_type": "code",
   "execution_count": 19,
   "metadata": {
    "executionInfo": {
     "elapsed": 20,
     "status": "ok",
     "timestamp": 1646435125740,
     "user": {
      "displayName": "Zach Carlson",
      "photoUrl": "https://lh3.googleusercontent.com/a-/AOh14GgGGS1PKMV2r8fg-mGiEbM29TOg1SBR8iwMW1PjI3g=s64",
      "userId": "10863465888675209886"
     },
     "user_tz": 300
    },
    "id": "BK7R7HkBDYah"
   },
   "outputs": [],
   "source": [
    "def get_movie_title_from_id(movieId):\n",
    "  title =  movie_titles.loc[movie_titles[\"movieId\"]==movieId,\"title\"].item()\n",
    "  return title"
   ]
  },
  {
   "cell_type": "code",
   "execution_count": 20,
   "metadata": {
    "executionInfo": {
     "elapsed": 18,
     "status": "ok",
     "timestamp": 1646435125740,
     "user": {
      "displayName": "Zach Carlson",
      "photoUrl": "https://lh3.googleusercontent.com/a-/AOh14GgGGS1PKMV2r8fg-mGiEbM29TOg1SBR8iwMW1PjI3g=s64",
      "userId": "10863465888675209886"
     },
     "user_tz": 300
    },
    "id": "nrBZdhyiAd1X"
   },
   "outputs": [],
   "source": [
    "def get_user_recommended_movies(recs_df, userId):\n",
    "  try:\n",
    "    recommendations = recs_df[recs_df[\"userId\"] == userId][\"recommendations\"]\n",
    "    for movie in recommendations[0]:\n",
    "      print(f\"Movie: \\n{get_movie_title_from_id(movie[0])}\\nPredicted Rating: {movie[1]}\\n\")\n",
    "  except:\n",
    "    print(\"That userId does not exist in the dataset.  Try another.\")"
   ]
  },
  {
   "cell_type": "markdown",
   "metadata": {
    "id": "bhOKTRChp_sd"
   },
   "source": [
    "## Import Data"
   ]
  },
  {
   "cell_type": "code",
   "execution_count": 5,
   "metadata": {
    "colab": {
     "base_uri": "https://localhost:8080/"
    },
    "executionInfo": {
     "elapsed": 10599,
     "status": "ok",
     "timestamp": 1646434753352,
     "user": {
      "displayName": "Zach Carlson",
      "photoUrl": "https://lh3.googleusercontent.com/a-/AOh14GgGGS1PKMV2r8fg-mGiEbM29TOg1SBR8iwMW1PjI3g=s64",
      "userId": "10863465888675209886"
     },
     "user_tz": 300
    },
    "id": "6Ze-nFFcqAhK",
    "outputId": "84b6b112-07b5-40a0-deb6-03cd39d8d0cd"
   },
   "outputs": [
    {
     "name": "stdout",
     "output_type": "stream",
     "text": [
      "Master :  local[*]\n",
      "Cores  :  2\n"
     ]
    }
   ],
   "source": [
    "#create SparkSession and SparkContext objects\n",
    "sc = SparkContext.getOrCreate()\n",
    "spark = SparkSession.builder \\\n",
    "  .master(\"local[*]\") \\\n",
    "  .config(\"spark.executor.memory\", \"70g\") \\\n",
    "  .config(\"spark.driver.memory\", \"50g\") \\\n",
    "  .config(\"spark.memory.offHeap.enabled\",True) \\\n",
    "  .config(\"spark.memory.offHeap.size\",\"16g\") \\\n",
    "  .getOrCreate()\n",
    "\n",
    "print('Master : ', sc.master)\n",
    "print('Cores  : ', sc.defaultParallelism)"
   ]
  },
  {
   "cell_type": "code",
   "execution_count": 21,
   "metadata": {
    "colab": {
     "base_uri": "https://localhost:8080/",
     "height": 206
    },
    "executionInfo": {
     "elapsed": 19,
     "status": "ok",
     "timestamp": 1646435125741,
     "user": {
      "displayName": "Zach Carlson",
      "photoUrl": "https://lh3.googleusercontent.com/a-/AOh14GgGGS1PKMV2r8fg-mGiEbM29TOg1SBR8iwMW1PjI3g=s64",
      "userId": "10863465888675209886"
     },
     "user_tz": 300
    },
    "id": "nzlxKDBYCuzX",
    "outputId": "5a1d0aab-2e7c-4088-9e27-a5bf9cca1fa6"
   },
   "outputs": [
    {
     "data": {
      "text/html": [
       "\n",
       "  <div id=\"df-3d880edf-df68-488a-b942-e72beb1a9d0c\">\n",
       "    <div class=\"colab-df-container\">\n",
       "      <div>\n",
       "<style scoped>\n",
       "    .dataframe tbody tr th:only-of-type {\n",
       "        vertical-align: middle;\n",
       "    }\n",
       "\n",
       "    .dataframe tbody tr th {\n",
       "        vertical-align: top;\n",
       "    }\n",
       "\n",
       "    .dataframe thead th {\n",
       "        text-align: right;\n",
       "    }\n",
       "</style>\n",
       "<table border=\"1\" class=\"dataframe\">\n",
       "  <thead>\n",
       "    <tr style=\"text-align: right;\">\n",
       "      <th></th>\n",
       "      <th>movieId</th>\n",
       "      <th>title</th>\n",
       "      <th>genres</th>\n",
       "    </tr>\n",
       "  </thead>\n",
       "  <tbody>\n",
       "    <tr>\n",
       "      <th>0</th>\n",
       "      <td>1</td>\n",
       "      <td>Toy Story (1995)</td>\n",
       "      <td>Adventure|Animation|Children|Comedy|Fantasy</td>\n",
       "    </tr>\n",
       "    <tr>\n",
       "      <th>1</th>\n",
       "      <td>2</td>\n",
       "      <td>Jumanji (1995)</td>\n",
       "      <td>Adventure|Children|Fantasy</td>\n",
       "    </tr>\n",
       "    <tr>\n",
       "      <th>2</th>\n",
       "      <td>3</td>\n",
       "      <td>Grumpier Old Men (1995)</td>\n",
       "      <td>Comedy|Romance</td>\n",
       "    </tr>\n",
       "    <tr>\n",
       "      <th>3</th>\n",
       "      <td>4</td>\n",
       "      <td>Waiting to Exhale (1995)</td>\n",
       "      <td>Comedy|Drama|Romance</td>\n",
       "    </tr>\n",
       "    <tr>\n",
       "      <th>4</th>\n",
       "      <td>5</td>\n",
       "      <td>Father of the Bride Part II (1995)</td>\n",
       "      <td>Comedy</td>\n",
       "    </tr>\n",
       "  </tbody>\n",
       "</table>\n",
       "</div>\n",
       "      <button class=\"colab-df-convert\" onclick=\"convertToInteractive('df-3d880edf-df68-488a-b942-e72beb1a9d0c')\"\n",
       "              title=\"Convert this dataframe to an interactive table.\"\n",
       "              style=\"display:none;\">\n",
       "        \n",
       "  <svg xmlns=\"http://www.w3.org/2000/svg\" height=\"24px\"viewBox=\"0 0 24 24\"\n",
       "       width=\"24px\">\n",
       "    <path d=\"M0 0h24v24H0V0z\" fill=\"none\"/>\n",
       "    <path d=\"M18.56 5.44l.94 2.06.94-2.06 2.06-.94-2.06-.94-.94-2.06-.94 2.06-2.06.94zm-11 1L8.5 8.5l.94-2.06 2.06-.94-2.06-.94L8.5 2.5l-.94 2.06-2.06.94zm10 10l.94 2.06.94-2.06 2.06-.94-2.06-.94-.94-2.06-.94 2.06-2.06.94z\"/><path d=\"M17.41 7.96l-1.37-1.37c-.4-.4-.92-.59-1.43-.59-.52 0-1.04.2-1.43.59L10.3 9.45l-7.72 7.72c-.78.78-.78 2.05 0 2.83L4 21.41c.39.39.9.59 1.41.59.51 0 1.02-.2 1.41-.59l7.78-7.78 2.81-2.81c.8-.78.8-2.07 0-2.86zM5.41 20L4 18.59l7.72-7.72 1.47 1.35L5.41 20z\"/>\n",
       "  </svg>\n",
       "      </button>\n",
       "      \n",
       "  <style>\n",
       "    .colab-df-container {\n",
       "      display:flex;\n",
       "      flex-wrap:wrap;\n",
       "      gap: 12px;\n",
       "    }\n",
       "\n",
       "    .colab-df-convert {\n",
       "      background-color: #E8F0FE;\n",
       "      border: none;\n",
       "      border-radius: 50%;\n",
       "      cursor: pointer;\n",
       "      display: none;\n",
       "      fill: #1967D2;\n",
       "      height: 32px;\n",
       "      padding: 0 0 0 0;\n",
       "      width: 32px;\n",
       "    }\n",
       "\n",
       "    .colab-df-convert:hover {\n",
       "      background-color: #E2EBFA;\n",
       "      box-shadow: 0px 1px 2px rgba(60, 64, 67, 0.3), 0px 1px 3px 1px rgba(60, 64, 67, 0.15);\n",
       "      fill: #174EA6;\n",
       "    }\n",
       "\n",
       "    [theme=dark] .colab-df-convert {\n",
       "      background-color: #3B4455;\n",
       "      fill: #D2E3FC;\n",
       "    }\n",
       "\n",
       "    [theme=dark] .colab-df-convert:hover {\n",
       "      background-color: #434B5C;\n",
       "      box-shadow: 0px 1px 3px 1px rgba(0, 0, 0, 0.15);\n",
       "      filter: drop-shadow(0px 1px 2px rgba(0, 0, 0, 0.3));\n",
       "      fill: #FFFFFF;\n",
       "    }\n",
       "  </style>\n",
       "\n",
       "      <script>\n",
       "        const buttonEl =\n",
       "          document.querySelector('#df-3d880edf-df68-488a-b942-e72beb1a9d0c button.colab-df-convert');\n",
       "        buttonEl.style.display =\n",
       "          google.colab.kernel.accessAllowed ? 'block' : 'none';\n",
       "\n",
       "        async function convertToInteractive(key) {\n",
       "          const element = document.querySelector('#df-3d880edf-df68-488a-b942-e72beb1a9d0c');\n",
       "          const dataTable =\n",
       "            await google.colab.kernel.invokeFunction('convertToInteractive',\n",
       "                                                     [key], {});\n",
       "          if (!dataTable) return;\n",
       "\n",
       "          const docLinkHtml = 'Like what you see? Visit the ' +\n",
       "            '<a target=\"_blank\" href=https://colab.research.google.com/notebooks/data_table.ipynb>data table notebook</a>'\n",
       "            + ' to learn more about interactive tables.';\n",
       "          element.innerHTML = '';\n",
       "          dataTable['output_type'] = 'display_data';\n",
       "          await google.colab.output.renderOutput(dataTable, element);\n",
       "          const docLink = document.createElement('div');\n",
       "          docLink.innerHTML = docLinkHtml;\n",
       "          element.appendChild(docLink);\n",
       "        }\n",
       "      </script>\n",
       "    </div>\n",
       "  </div>\n",
       "  "
      ],
      "text/plain": [
       "   movieId                               title  \\\n",
       "0        1                    Toy Story (1995)   \n",
       "1        2                      Jumanji (1995)   \n",
       "2        3             Grumpier Old Men (1995)   \n",
       "3        4            Waiting to Exhale (1995)   \n",
       "4        5  Father of the Bride Part II (1995)   \n",
       "\n",
       "                                        genres  \n",
       "0  Adventure|Animation|Children|Comedy|Fantasy  \n",
       "1                   Adventure|Children|Fantasy  \n",
       "2                               Comedy|Romance  \n",
       "3                         Comedy|Drama|Romance  \n",
       "4                                       Comedy  "
      ]
     },
     "execution_count": 21,
     "metadata": {},
     "output_type": "execute_result"
    }
   ],
   "source": [
    "import pandas as pd\n",
    "\n",
    "file_path = INPUT_DIRECTORY + \"movies.csv\"\n",
    "movie_titles = pd.read_csv(file_path)\n",
    "movie_titles.head()"
   ]
  },
  {
   "cell_type": "code",
   "execution_count": 7,
   "metadata": {
    "colab": {
     "base_uri": "https://localhost:8080/"
    },
    "executionInfo": {
     "elapsed": 15214,
     "status": "ok",
     "timestamp": 1646434768562,
     "user": {
      "displayName": "Zach Carlson",
      "photoUrl": "https://lh3.googleusercontent.com/a-/AOh14GgGGS1PKMV2r8fg-mGiEbM29TOg1SBR8iwMW1PjI3g=s64",
      "userId": "10863465888675209886"
     },
     "user_tz": 300
    },
    "id": "arqOB2xKqGAO",
    "outputId": "42db4e30-bd3d-4d32-e09e-1d3b920e1ad9"
   },
   "outputs": [
    {
     "name": "stdout",
     "output_type": "stream",
     "text": [
      "+------+-------+------+---------+\n",
      "|userId|movieId|rating|timestamp|\n",
      "+------+-------+------+---------+\n",
      "|     1|      1|   4.0|964982703|\n",
      "|     1|      3|   4.0|964981247|\n",
      "|     1|      6|   4.0|964982224|\n",
      "|     1|     47|   5.0|964983815|\n",
      "|     1|     50|   5.0|964982931|\n",
      "+------+-------+------+---------+\n",
      "only showing top 5 rows\n",
      "\n"
     ]
    }
   ],
   "source": [
    "#Import data\n",
    "file_path = INPUT_DIRECTORY + \"ratings.csv\"\n",
    "ratings = spark.read.csv(file_path, header=True, inferSchema=True)\n",
    "ratings.show(5)"
   ]
  },
  {
   "cell_type": "markdown",
   "metadata": {
    "id": "JBfUm4CKqMc2"
   },
   "source": [
    "## ALS Model Creation"
   ]
  },
  {
   "cell_type": "markdown",
   "metadata": {
    "id": "ai7buVMuqUPF"
   },
   "source": [
    "We'll split our data 80/20% into training/testing sets and set `seed` to 1 for reproducibility:"
   ]
  },
  {
   "cell_type": "code",
   "execution_count": 8,
   "metadata": {
    "executionInfo": {
     "elapsed": 5,
     "status": "ok",
     "timestamp": 1646434768563,
     "user": {
      "displayName": "Zach Carlson",
      "photoUrl": "https://lh3.googleusercontent.com/a-/AOh14GgGGS1PKMV2r8fg-mGiEbM29TOg1SBR8iwMW1PjI3g=s64",
      "userId": "10863465888675209886"
     },
     "user_tz": 300
    },
    "id": "4MK5lC5zqNIB"
   },
   "outputs": [],
   "source": [
    "ratings = ratings.select(\"userId\", \"movieId\", \"rating\")\n",
    "(training_data, test_data) = ratings.randomSplit([.8, .2], seed=42)"
   ]
  },
  {
   "cell_type": "markdown",
   "metadata": {
    "id": "mPnh_5G6qWV1"
   },
   "source": [
    "Initialize our model.  We'll set the following parameters before optimizing hyperparameters:\n",
    "- `nonnegative`: `True`. We only want non-negative numbers, as a negative rating has no meaning in this context.  \n",
    "- `coldStartStrategy`: `\"drop\"`.  Helps avoid situations where all of a user's ratings are added to the training set only.  This data will not be used when calculating RMSE, because predictions on these users would be meaningless because there is nothing to test.\n",
    "- `implicitPrefs`: `False`.  We have actual ratings, so we don't need to use implicit feedback."
   ]
  },
  {
   "cell_type": "code",
   "execution_count": 9,
   "metadata": {
    "executionInfo": {
     "elapsed": 325,
     "status": "ok",
     "timestamp": 1646434768884,
     "user": {
      "displayName": "Zach Carlson",
      "photoUrl": "https://lh3.googleusercontent.com/a-/AOh14GgGGS1PKMV2r8fg-mGiEbM29TOg1SBR8iwMW1PjI3g=s64",
      "userId": "10863465888675209886"
     },
     "user_tz": 300
    },
    "id": "sWcfuKHgqWtV"
   },
   "outputs": [],
   "source": [
    "from pyspark.ml.recommendation import ALS\n",
    "\n",
    "als = ALS(userCol=\"userId\", itemCol=\"movieId\", ratingCol=\"rating\", \n",
    "          nonnegative = True, coldStartStrategy = \"drop\", implicitPrefs = False)"
   ]
  },
  {
   "cell_type": "markdown",
   "metadata": {
    "id": "f0uya_gYqYbn"
   },
   "source": [
    "Now we'll build our `ParamGridBuilder`:"
   ]
  },
  {
   "cell_type": "code",
   "execution_count": 10,
   "metadata": {
    "executionInfo": {
     "elapsed": 4,
     "status": "ok",
     "timestamp": 1646434768884,
     "user": {
      "displayName": "Zach Carlson",
      "photoUrl": "https://lh3.googleusercontent.com/a-/AOh14GgGGS1PKMV2r8fg-mGiEbM29TOg1SBR8iwMW1PjI3g=s64",
      "userId": "10863465888675209886"
     },
     "user_tz": 300
    },
    "id": "b55oJnocqZeB"
   },
   "outputs": [],
   "source": [
    "from pyspark.ml.tuning import ParamGridBuilder\n",
    "\n",
    "param_grid = ParamGridBuilder() \\\n",
    "                  .addGrid(als.rank, [5, 20]) \\\n",
    "                  .addGrid(als.maxIter, [5]) \\\n",
    "                  .addGrid(als.regParam, [0.01, 0.05, 1]) \\\n",
    "                  .build()"
   ]
  },
  {
   "cell_type": "markdown",
   "metadata": {
    "id": "tIen1IvdqanS"
   },
   "source": [
    "Next, we'll create our evaluator and use RMSE as our metric:"
   ]
  },
  {
   "cell_type": "code",
   "execution_count": 11,
   "metadata": {
    "colab": {
     "base_uri": "https://localhost:8080/"
    },
    "executionInfo": {
     "elapsed": 4,
     "status": "ok",
     "timestamp": 1646434768885,
     "user": {
      "displayName": "Zach Carlson",
      "photoUrl": "https://lh3.googleusercontent.com/a-/AOh14GgGGS1PKMV2r8fg-mGiEbM29TOg1SBR8iwMW1PjI3g=s64",
      "userId": "10863465888675209886"
     },
     "user_tz": 300
    },
    "id": "QoerGnB0qawd",
    "outputId": "de4cc775-8fa4-458d-a841-35c4f461a34a"
   },
   "outputs": [
    {
     "name": "stdout",
     "output_type": "stream",
     "text": [
      "Num models to be tested:  6\n"
     ]
    }
   ],
   "source": [
    "from pyspark.ml.evaluation import RegressionEvaluator\n",
    "\n",
    "evaluator = RegressionEvaluator(metricName=\"rmse\", labelCol=\"rating\", predictionCol=\"prediction\") \n",
    "print (\"Num models to be tested: \", len(param_grid))"
   ]
  },
  {
   "cell_type": "markdown",
   "metadata": {
    "id": "zS-G421YqcWM"
   },
   "source": [
    "Create CrossValidator:"
   ]
  },
  {
   "cell_type": "code",
   "execution_count": 12,
   "metadata": {
    "executionInfo": {
     "elapsed": 3,
     "status": "ok",
     "timestamp": 1646434768885,
     "user": {
      "displayName": "Zach Carlson",
      "photoUrl": "https://lh3.googleusercontent.com/a-/AOh14GgGGS1PKMV2r8fg-mGiEbM29TOg1SBR8iwMW1PjI3g=s64",
      "userId": "10863465888675209886"
     },
     "user_tz": 300
    },
    "id": "zbm4OzbGqc0d"
   },
   "outputs": [],
   "source": [
    "from pyspark.ml.tuning import CrossValidator\n",
    "\n",
    "cv = CrossValidator(estimator = als, \n",
    "                    estimatorParamMaps= param_grid,\n",
    "                    evaluator = evaluator,\n",
    "                    numFolds = 5)"
   ]
  },
  {
   "cell_type": "markdown",
   "metadata": {
    "id": "roWfoHzlqeO0"
   },
   "source": [
    "Fit Data:"
   ]
  },
  {
   "cell_type": "code",
   "execution_count": 13,
   "metadata": {
    "executionInfo": {
     "elapsed": 342549,
     "status": "ok",
     "timestamp": 1646435111431,
     "user": {
      "displayName": "Zach Carlson",
      "photoUrl": "https://lh3.googleusercontent.com/a-/AOh14GgGGS1PKMV2r8fg-mGiEbM29TOg1SBR8iwMW1PjI3g=s64",
      "userId": "10863465888675209886"
     },
     "user_tz": 300
    },
    "id": "SaGGVqMYqgfp"
   },
   "outputs": [],
   "source": [
    "model = cv.fit(training_data)\n",
    "\n",
    "best_model = model.bestModel"
   ]
  },
  {
   "cell_type": "markdown",
   "metadata": {
    "id": "yEj2Hq_wqfY5"
   },
   "source": [
    "Get information on the best model:"
   ]
  },
  {
   "cell_type": "code",
   "execution_count": 14,
   "metadata": {
    "colab": {
     "base_uri": "https://localhost:8080/"
    },
    "executionInfo": {
     "elapsed": 11,
     "status": "ok",
     "timestamp": 1646435111432,
     "user": {
      "displayName": "Zach Carlson",
      "photoUrl": "https://lh3.googleusercontent.com/a-/AOh14GgGGS1PKMV2r8fg-mGiEbM29TOg1SBR8iwMW1PjI3g=s64",
      "userId": "10863465888675209886"
     },
     "user_tz": 300
    },
    "id": "KG3bJu_fqfB1",
    "outputId": "dfe62fe9-3df2-4d10-c460-8010f0edee97"
   },
   "outputs": [
    {
     "name": "stdout",
     "output_type": "stream",
     "text": [
      "<class 'pyspark.ml.recommendation.ALSModel'>\n",
      "\n",
      "**Best Model**\n",
      "  Rank: 5\n",
      "  MaxIter: 5\n",
      "  RegParam: 0.05\n"
     ]
    }
   ],
   "source": [
    "print(type(best_model))\n",
    "\n",
    "print(\"\\n**Best Model**\")\n",
    "print(\"  Rank:\", best_model.rank)\n",
    "print(\"  MaxIter:\", best_model._java_obj.parent().getMaxIter())\n",
    "print(\"  RegParam:\", best_model._java_obj.parent().getRegParam())"
   ]
  },
  {
   "cell_type": "markdown",
   "metadata": {
    "id": "noN4sgaNqkbU"
   },
   "source": [
    "## Performance Evaluation"
   ]
  },
  {
   "cell_type": "markdown",
   "metadata": {
    "id": "NaNU61Amrrke"
   },
   "source": [
    "Let's generate predictions on the test data:"
   ]
  },
  {
   "cell_type": "code",
   "execution_count": 15,
   "metadata": {
    "colab": {
     "base_uri": "https://localhost:8080/"
    },
    "executionInfo": {
     "elapsed": 1189,
     "status": "ok",
     "timestamp": 1646435112614,
     "user": {
      "displayName": "Zach Carlson",
      "photoUrl": "https://lh3.googleusercontent.com/a-/AOh14GgGGS1PKMV2r8fg-mGiEbM29TOg1SBR8iwMW1PjI3g=s64",
      "userId": "10863465888675209886"
     },
     "user_tz": 300
    },
    "id": "R1oSkgApruaa",
    "outputId": "500573f0-1fce-46f3-a068-b90f3d34f6ed"
   },
   "outputs": [
    {
     "name": "stdout",
     "output_type": "stream",
     "text": [
      "+------+-------+------+----------+\n",
      "|userId|movieId|rating|prediction|\n",
      "+------+-------+------+----------+\n",
      "|   148|   4896|   4.0|  3.613617|\n",
      "|   148|   5618|   3.0|   3.69381|\n",
      "|   148|   7153|   3.0| 3.5649483|\n",
      "|   148|  40629|   5.0| 3.4003148|\n",
      "|   148|  40815|   4.0| 3.6592054|\n",
      "|   148|  60069|   4.5|  3.824732|\n",
      "|   148|  68954|   4.0| 3.6093912|\n",
      "|   148|  69844|   4.0| 3.6372879|\n",
      "|   148|  79132|   1.5| 3.4755905|\n",
      "|   148|  79702|   4.0| 3.2865078|\n",
      "|   148|  81834|   4.0| 4.0275917|\n",
      "|   148|  81847|   4.5| 3.2648077|\n",
      "|   148|  98243|   4.5|  3.290474|\n",
      "|   148|  98491|   5.0|  3.809442|\n",
      "|   148| 108932|   4.0| 3.4892316|\n",
      "|   463|   1088|   3.5| 3.8741417|\n",
      "|   463|   1221|   4.5| 4.1042433|\n",
      "|   463|   2028|   4.5|  4.180805|\n",
      "|   463|   2167|   3.0|  3.478098|\n",
      "|   463|   3448|   3.0| 4.2075872|\n",
      "+------+-------+------+----------+\n",
      "only showing top 20 rows\n",
      "\n"
     ]
    }
   ],
   "source": [
    "test_predictions = model.transform(test_data)\n",
    "test_predictions.show()"
   ]
  },
  {
   "cell_type": "code",
   "execution_count": 16,
   "metadata": {
    "colab": {
     "base_uri": "https://localhost:8080/"
    },
    "executionInfo": {
     "elapsed": 1295,
     "status": "ok",
     "timestamp": 1646435113907,
     "user": {
      "displayName": "Zach Carlson",
      "photoUrl": "https://lh3.googleusercontent.com/a-/AOh14GgGGS1PKMV2r8fg-mGiEbM29TOg1SBR8iwMW1PjI3g=s64",
      "userId": "10863465888675209886"
     },
     "user_tz": 300
    },
    "id": "Xhya51RDqlQG",
    "outputId": "c4799a63-5a71-416d-d9be-e8be52fc1404"
   },
   "outputs": [
    {
     "name": "stdout",
     "output_type": "stream",
     "text": [
      "0.903445587157575\n"
     ]
    }
   ],
   "source": [
    "# Evaluate the \"test_predictions\" dataframe\n",
    "RMSE = evaluator.evaluate(test_predictions)\n",
    "\n",
    "# Print the RMSE\n",
    "print(RMSE)"
   ]
  },
  {
   "cell_type": "markdown",
   "metadata": {
    "id": "_sWCT11PAYrO"
   },
   "source": [
    "## Generate Recommendations:"
   ]
  },
  {
   "cell_type": "code",
   "execution_count": 17,
   "metadata": {
    "colab": {
     "base_uri": "https://localhost:8080/"
    },
    "executionInfo": {
     "elapsed": 6383,
     "status": "ok",
     "timestamp": 1646435120288,
     "user": {
      "displayName": "Zach Carlson",
      "photoUrl": "https://lh3.googleusercontent.com/a-/AOh14GgGGS1PKMV2r8fg-mGiEbM29TOg1SBR8iwMW1PjI3g=s64",
      "userId": "10863465888675209886"
     },
     "user_tz": 300
    },
    "id": "bNc8zsKY-VCT",
    "outputId": "b64022e1-dc1f-4119-c15c-e236734ffa26"
   },
   "outputs": [
    {
     "name": "stderr",
     "output_type": "stream",
     "text": [
      "/usr/local/lib/python3.7/dist-packages/pyspark/sql/context.py:127: FutureWarning: Deprecated in 3.0.0. Use SparkSession.builder.getOrCreate() instead.\n",
      "  FutureWarning\n"
     ]
    },
    {
     "name": "stdout",
     "output_type": "stream",
     "text": [
      "+------+--------------------------------------------------------------------------------------------------------------------------------------------------------------------------------------------------------+\n",
      "|userId|recommendations                                                                                                                                                                                         |\n",
      "+------+--------------------------------------------------------------------------------------------------------------------------------------------------------------------------------------------------------+\n",
      "|1     |[{96004, 6.5599866}, {3379, 6.5599866}, {6201, 6.3621697}, {8235, 6.3621697}, {2295, 6.2520733}, {8477, 6.06789}, {1684, 6.0549073}, {33649, 6.0447793}, {183897, 6.018463}, {7008, 6.0062227}]         |\n",
      "|3     |[{4821, 6.7343135}, {26171, 5.7091475}, {2303, 5.3618293}, {5075, 5.3373117}, {6835, 5.274478}, {5746, 5.274478}, {68073, 5.192239}, {5181, 5.182099}, {4518, 5.0868735}, {5427, 4.996534}]             |\n",
      "|5     |[{8477, 5.7291408}, {187717, 5.5115857}, {6611, 5.5115857}, {167064, 5.5115857}, {162414, 5.5115857}, {32582, 5.5115857}, {152711, 5.5115857}, {100556, 5.5115857}, {96004, 5.499448}, {3379, 5.499448}]|\n",
      "|6     |[{183897, 6.354037}, {112804, 6.349186}, {51931, 6.3063755}, {47423, 5.9993753}, {3223, 5.967323}, {3061, 5.909026}, {27865, 5.888766}, {2891, 5.8599753}, {391, 5.844866}, {3235, 5.808509}]           |\n",
      "|9     |[{160565, 6.128844}, {8477, 6.053811}, {1295, 6.020551}, {25771, 5.947958}, {89904, 5.7420883}, {7564, 5.7023916}, {2303, 5.6643114}, {7116, 5.651611}, {7579, 5.6120977}, {8235, 5.6014113}]           |\n",
      "+------+--------------------------------------------------------------------------------------------------------------------------------------------------------------------------------------------------------+\n",
      "only showing top 5 rows\n",
      "\n"
     ]
    }
   ],
   "source": [
    "# Generate top 10 movie recommendations for each user\n",
    "userRecs = best_model.recommendForAllUsers(10)\n",
    "userRecs.show(5, truncate=False)"
   ]
  },
  {
   "cell_type": "code",
   "execution_count": 18,
   "metadata": {
    "colab": {
     "base_uri": "https://localhost:8080/",
     "height": 206
    },
    "executionInfo": {
     "elapsed": 5455,
     "status": "ok",
     "timestamp": 1646435125739,
     "user": {
      "displayName": "Zach Carlson",
      "photoUrl": "https://lh3.googleusercontent.com/a-/AOh14GgGGS1PKMV2r8fg-mGiEbM29TOg1SBR8iwMW1PjI3g=s64",
      "userId": "10863465888675209886"
     },
     "user_tz": 300
    },
    "id": "pF7ALup6BG1P",
    "outputId": "0bdad6e0-f1b2-4f54-81b2-0d81c56d1fc6"
   },
   "outputs": [
    {
     "data": {
      "text/html": [
       "\n",
       "  <div id=\"df-57802af0-7515-4311-bfc5-d754b3f18dae\">\n",
       "    <div class=\"colab-df-container\">\n",
       "      <div>\n",
       "<style scoped>\n",
       "    .dataframe tbody tr th:only-of-type {\n",
       "        vertical-align: middle;\n",
       "    }\n",
       "\n",
       "    .dataframe tbody tr th {\n",
       "        vertical-align: top;\n",
       "    }\n",
       "\n",
       "    .dataframe thead th {\n",
       "        text-align: right;\n",
       "    }\n",
       "</style>\n",
       "<table border=\"1\" class=\"dataframe\">\n",
       "  <thead>\n",
       "    <tr style=\"text-align: right;\">\n",
       "      <th></th>\n",
       "      <th>userId</th>\n",
       "      <th>recommendations</th>\n",
       "    </tr>\n",
       "  </thead>\n",
       "  <tbody>\n",
       "    <tr>\n",
       "      <th>0</th>\n",
       "      <td>1</td>\n",
       "      <td>[(96004, 6.559986591339111), (3379, 6.55998659...</td>\n",
       "    </tr>\n",
       "    <tr>\n",
       "      <th>1</th>\n",
       "      <td>3</td>\n",
       "      <td>[(4821, 6.734313488006592), (26171, 5.70914745...</td>\n",
       "    </tr>\n",
       "    <tr>\n",
       "      <th>2</th>\n",
       "      <td>5</td>\n",
       "      <td>[(8477, 5.729140758514404), (187717, 5.5115857...</td>\n",
       "    </tr>\n",
       "    <tr>\n",
       "      <th>3</th>\n",
       "      <td>6</td>\n",
       "      <td>[(183897, 6.354036808013916), (112804, 6.34918...</td>\n",
       "    </tr>\n",
       "    <tr>\n",
       "      <th>4</th>\n",
       "      <td>9</td>\n",
       "      <td>[(160565, 6.128843784332275), (8477, 6.0538110...</td>\n",
       "    </tr>\n",
       "  </tbody>\n",
       "</table>\n",
       "</div>\n",
       "      <button class=\"colab-df-convert\" onclick=\"convertToInteractive('df-57802af0-7515-4311-bfc5-d754b3f18dae')\"\n",
       "              title=\"Convert this dataframe to an interactive table.\"\n",
       "              style=\"display:none;\">\n",
       "        \n",
       "  <svg xmlns=\"http://www.w3.org/2000/svg\" height=\"24px\"viewBox=\"0 0 24 24\"\n",
       "       width=\"24px\">\n",
       "    <path d=\"M0 0h24v24H0V0z\" fill=\"none\"/>\n",
       "    <path d=\"M18.56 5.44l.94 2.06.94-2.06 2.06-.94-2.06-.94-.94-2.06-.94 2.06-2.06.94zm-11 1L8.5 8.5l.94-2.06 2.06-.94-2.06-.94L8.5 2.5l-.94 2.06-2.06.94zm10 10l.94 2.06.94-2.06 2.06-.94-2.06-.94-.94-2.06-.94 2.06-2.06.94z\"/><path d=\"M17.41 7.96l-1.37-1.37c-.4-.4-.92-.59-1.43-.59-.52 0-1.04.2-1.43.59L10.3 9.45l-7.72 7.72c-.78.78-.78 2.05 0 2.83L4 21.41c.39.39.9.59 1.41.59.51 0 1.02-.2 1.41-.59l7.78-7.78 2.81-2.81c.8-.78.8-2.07 0-2.86zM5.41 20L4 18.59l7.72-7.72 1.47 1.35L5.41 20z\"/>\n",
       "  </svg>\n",
       "      </button>\n",
       "      \n",
       "  <style>\n",
       "    .colab-df-container {\n",
       "      display:flex;\n",
       "      flex-wrap:wrap;\n",
       "      gap: 12px;\n",
       "    }\n",
       "\n",
       "    .colab-df-convert {\n",
       "      background-color: #E8F0FE;\n",
       "      border: none;\n",
       "      border-radius: 50%;\n",
       "      cursor: pointer;\n",
       "      display: none;\n",
       "      fill: #1967D2;\n",
       "      height: 32px;\n",
       "      padding: 0 0 0 0;\n",
       "      width: 32px;\n",
       "    }\n",
       "\n",
       "    .colab-df-convert:hover {\n",
       "      background-color: #E2EBFA;\n",
       "      box-shadow: 0px 1px 2px rgba(60, 64, 67, 0.3), 0px 1px 3px 1px rgba(60, 64, 67, 0.15);\n",
       "      fill: #174EA6;\n",
       "    }\n",
       "\n",
       "    [theme=dark] .colab-df-convert {\n",
       "      background-color: #3B4455;\n",
       "      fill: #D2E3FC;\n",
       "    }\n",
       "\n",
       "    [theme=dark] .colab-df-convert:hover {\n",
       "      background-color: #434B5C;\n",
       "      box-shadow: 0px 1px 3px 1px rgba(0, 0, 0, 0.15);\n",
       "      filter: drop-shadow(0px 1px 2px rgba(0, 0, 0, 0.3));\n",
       "      fill: #FFFFFF;\n",
       "    }\n",
       "  </style>\n",
       "\n",
       "      <script>\n",
       "        const buttonEl =\n",
       "          document.querySelector('#df-57802af0-7515-4311-bfc5-d754b3f18dae button.colab-df-convert');\n",
       "        buttonEl.style.display =\n",
       "          google.colab.kernel.accessAllowed ? 'block' : 'none';\n",
       "\n",
       "        async function convertToInteractive(key) {\n",
       "          const element = document.querySelector('#df-57802af0-7515-4311-bfc5-d754b3f18dae');\n",
       "          const dataTable =\n",
       "            await google.colab.kernel.invokeFunction('convertToInteractive',\n",
       "                                                     [key], {});\n",
       "          if (!dataTable) return;\n",
       "\n",
       "          const docLinkHtml = 'Like what you see? Visit the ' +\n",
       "            '<a target=\"_blank\" href=https://colab.research.google.com/notebooks/data_table.ipynb>data table notebook</a>'\n",
       "            + ' to learn more about interactive tables.';\n",
       "          element.innerHTML = '';\n",
       "          dataTable['output_type'] = 'display_data';\n",
       "          await google.colab.output.renderOutput(dataTable, element);\n",
       "          const docLink = document.createElement('div');\n",
       "          docLink.innerHTML = docLinkHtml;\n",
       "          element.appendChild(docLink);\n",
       "        }\n",
       "      </script>\n",
       "    </div>\n",
       "  </div>\n",
       "  "
      ],
      "text/plain": [
       "   userId                                    recommendations\n",
       "0       1  [(96004, 6.559986591339111), (3379, 6.55998659...\n",
       "1       3  [(4821, 6.734313488006592), (26171, 5.70914745...\n",
       "2       5  [(8477, 5.729140758514404), (187717, 5.5115857...\n",
       "3       6  [(183897, 6.354036808013916), (112804, 6.34918...\n",
       "4       9  [(160565, 6.128843784332275), (8477, 6.0538110..."
      ]
     },
     "execution_count": 18,
     "metadata": {},
     "output_type": "execute_result"
    }
   ],
   "source": [
    "userRecs_pandas = userRecs.toPandas()\n",
    "userRecs_pandas.head()"
   ]
  },
  {
   "cell_type": "code",
   "execution_count": 22,
   "metadata": {
    "colab": {
     "base_uri": "https://localhost:8080/",
     "height": 35
    },
    "executionInfo": {
     "elapsed": 18,
     "status": "ok",
     "timestamp": 1646435125741,
     "user": {
      "displayName": "Zach Carlson",
      "photoUrl": "https://lh3.googleusercontent.com/a-/AOh14GgGGS1PKMV2r8fg-mGiEbM29TOg1SBR8iwMW1PjI3g=s64",
      "userId": "10863465888675209886"
     },
     "user_tz": 300
    },
    "id": "fr8Cd7JIBj9P",
    "outputId": "070d5d89-5bc3-43d6-9294-8f3da237ef4c"
   },
   "outputs": [
    {
     "data": {
      "application/vnd.google.colaboratory.intrinsic+json": {
       "type": "string"
      },
      "text/plain": [
       "'GoldenEye (1995)'"
      ]
     },
     "execution_count": 22,
     "metadata": {},
     "output_type": "execute_result"
    }
   ],
   "source": [
    "get_movie_title_from_id(10)"
   ]
  },
  {
   "cell_type": "code",
   "execution_count": 23,
   "metadata": {
    "colab": {
     "base_uri": "https://localhost:8080/"
    },
    "executionInfo": {
     "elapsed": 18,
     "status": "ok",
     "timestamp": 1646435125742,
     "user": {
      "displayName": "Zach Carlson",
      "photoUrl": "https://lh3.googleusercontent.com/a-/AOh14GgGGS1PKMV2r8fg-mGiEbM29TOg1SBR8iwMW1PjI3g=s64",
      "userId": "10863465888675209886"
     },
     "user_tz": 300
    },
    "id": "r1ZWvm-oB5hA",
    "outputId": "6f9bcc70-b83e-49b4-bea6-66a3cba35317"
   },
   "outputs": [
    {
     "name": "stdout",
     "output_type": "stream",
     "text": [
      "Movie: \n",
      "Dragon Ball Z: The History of Trunks (Doragon bôru Z: Zetsubô e no hankô!! Nokosareta chô senshi - Gohan to Torankusu) (1993)\n",
      "Predicted Rating: 6.559986591339111\n",
      "\n",
      "Movie: \n",
      "On the Beach (1959)\n",
      "Predicted Rating: 6.559986591339111\n",
      "\n",
      "Movie: \n",
      "Lady Jane (1986)\n",
      "Predicted Rating: 6.3621697425842285\n",
      "\n",
      "Movie: \n",
      "Safety Last! (1923)\n",
      "Predicted Rating: 6.3621697425842285\n",
      "\n",
      "Movie: \n",
      "Impostors, The (1998)\n",
      "Predicted Rating: 6.252073287963867\n",
      "\n",
      "Movie: \n",
      "Jetée, La (1962)\n",
      "Predicted Rating: 6.067890167236328\n",
      "\n",
      "Movie: \n",
      "Mrs. Dalloway (1997)\n",
      "Predicted Rating: 6.054907321929932\n",
      "\n",
      "Movie: \n",
      "Saving Face (2004)\n",
      "Predicted Rating: 6.044779300689697\n",
      "\n",
      "Movie: \n",
      "Isle of Dogs (2018)\n",
      "Predicted Rating: 6.018463134765625\n",
      "\n",
      "Movie: \n",
      "Last Tango in Paris (Ultimo tango a Parigi) (1972)\n",
      "Predicted Rating: 6.006222724914551\n",
      "\n"
     ]
    }
   ],
   "source": [
    "get_user_recommended_movies(userRecs_pandas, 1)"
   ]
  },
  {
   "cell_type": "code",
   "execution_count": 24,
   "metadata": {
    "colab": {
     "base_uri": "https://localhost:8080/"
    },
    "executionInfo": {
     "elapsed": 15,
     "status": "ok",
     "timestamp": 1646435125742,
     "user": {
      "displayName": "Zach Carlson",
      "photoUrl": "https://lh3.googleusercontent.com/a-/AOh14GgGGS1PKMV2r8fg-mGiEbM29TOg1SBR8iwMW1PjI3g=s64",
      "userId": "10863465888675209886"
     },
     "user_tz": 300
    },
    "id": "LPZwsLXnF9Zm",
    "outputId": "5ce76bbd-7836-4667-e109-12cb24b5e237"
   },
   "outputs": [
    {
     "name": "stdout",
     "output_type": "stream",
     "text": [
      "That userId does not exist in the dataset.  Try another.\n"
     ]
    }
   ],
   "source": [
    "#try a user that doesn't exist\n",
    "get_user_recommended_movies(userRecs_pandas, 2)"
   ]
  }
 ],
 "metadata": {
  "colab": {
   "authorship_tag": "ABX9TyPcpV+dtbOqkYfzmyAbcjur",
   "collapsed_sections": [],
   "name": "Part2_CollaborativeFiltering.ipynb",
   "provenance": []
  },
  "kernelspec": {
   "display_name": "Python 3 (ipykernel)",
   "language": "python",
   "name": "python3"
  },
  "language_info": {
   "codemirror_mode": {
    "name": "ipython",
    "version": 3
   },
   "file_extension": ".py",
   "mimetype": "text/x-python",
   "name": "python",
   "nbconvert_exporter": "python",
   "pygments_lexer": "ipython3",
   "version": "3.10.1"
  }
 },
 "nbformat": 4,
 "nbformat_minor": 1
}
