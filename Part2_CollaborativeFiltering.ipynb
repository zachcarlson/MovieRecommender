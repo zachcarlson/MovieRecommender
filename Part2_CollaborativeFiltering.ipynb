{
  "cells": [
    {
      "cell_type": "markdown",
      "metadata": {
        "id": "yXb04qg5puTf"
      },
      "source": [
        "# Movie Recommender: Part 2: Collaborative Filtering"
      ]
    },
    {
      "cell_type": "markdown",
      "metadata": {
        "id": "iL9o-YMepyNT"
      },
      "source": [
        "This Jupyter Notebook is part 1 of 3 to create a Recommender System using PySpark and the [MovieLens](https://grouplens.org/datasets/movielens/) dataset from GroupLens.   It uses the small dataset for education and development, which contains ~100,000 ratings from ~9,000 movies by ~600 users.  It was last updated September 2018 (as of 3/3/2022).  The ratings were created between March 29th, 1996 and September 24th, 2018.  More information can be found [here](https://files.grouplens.org/datasets/movielens/ml-latest-small-README.html).\n",
        "\n",
        "We are interested in creating a recommender system that can accurately predict the ratings of movies for a given user.  We will be using collaborative-filtering first.\n",
        "\n",
        "**Note**: The culmination of this project is a separate journal-formatted paper, so this Jupyter Notebook will have less text than usual.\n",
        "\n",
        "Notebook breakdown:\n",
        "- **Part 1:** Importing and EDA\n",
        "- **Part 2:** Collaborative Filtering\n",
        "- **Part 3:** Content-based Filtering"
      ]
    },
    {
      "cell_type": "markdown",
      "metadata": {
        "id": "5Kh1gU6Jp02p"
      },
      "source": [
        "## Configuration:"
      ]
    },
    {
      "cell_type": "code",
      "execution_count": 1,
      "metadata": {
        "colab": {
          "base_uri": "https://localhost:8080/"
        },
        "id": "vRQykAgzpNEn",
        "outputId": "d3767970-40de-420b-91f3-98eae19df2bf"
      },
      "outputs": [
        {
          "output_type": "stream",
          "name": "stdout",
          "text": [
            "Mounted at /content/drive\n"
          ]
        }
      ],
      "source": [
        "from google.colab import drive\n",
        "drive.mount('/content/drive', force_remount=True)"
      ]
    },
    {
      "cell_type": "code",
      "execution_count": 2,
      "metadata": {
        "id": "GJtK2jmhp2Gi"
      },
      "outputs": [],
      "source": [
        "INPUT_DIRECTORY = \"/content/drive/MyDrive/Grad School/DSCI 632/MovieRecommender/data/\" #for google mount\n",
        "# INPUT_DIRECTORY = \"./data/\" #for jupyter notebook"
      ]
    },
    {
      "cell_type": "code",
      "execution_count": 3,
      "metadata": {
        "id": "wByVAUQlp4hK"
      },
      "outputs": [],
      "source": [
        "%%capture \n",
        "#prevent large printout with %%capture\n",
        "\n",
        "#Download Java\n",
        "!apt-get install openjdk-8-jdk-headless -qq > /dev/null\n",
        "\n",
        "#Install Apache Spark 3.2.1 with Hadoop 3.2, get zipped folder\n",
        "!wget -q https://dlcdn.apache.org/spark/spark-3.2.1/spark-3.2.1-bin-hadoop3.2.tgz\n",
        "\n",
        "#Unzip folder\n",
        "!tar xvf spark-3.2.1-bin-hadoop3.2.tgz\n",
        "\n",
        "#Install findspark, pyspark 3.2.1\n",
        "!pip install -q findspark\n",
        "!pip install pyspark==3.2.1\n",
        "\n",
        "#Set variables\n",
        "import os\n",
        "os.environ[\"JAVA_HOME\"] = \"/usr/lib/jvm/java-8-openjdk-amd64\"\n",
        "os.environ[\"SPARK_HOME\"] = \"spark-3.2.1-bin-hadoop3.2\""
      ]
    },
    {
      "cell_type": "markdown",
      "metadata": {
        "id": "21Fm5S72p7eM"
      },
      "source": [
        "## Load Packages and Functions"
      ]
    },
    {
      "cell_type": "code",
      "execution_count": 4,
      "metadata": {
        "id": "ISbHW4E3p7uV"
      },
      "outputs": [],
      "source": [
        "from pyspark import SparkContext\n",
        "from pyspark.ml.evaluation import RegressionEvaluator\n",
        "from pyspark.ml.recommendation import ALS\n",
        "from pyspark.ml.tuning import CrossValidator\n",
        "from pyspark.ml.tuning import ParamGridBuilder\n",
        "from pyspark.sql import SparkSession"
      ]
    },
    {
      "cell_type": "code",
      "execution_count": 5,
      "metadata": {
        "id": "BK7R7HkBDYah"
      },
      "outputs": [],
      "source": [
        "def get_movie_title_from_id(movieId):\n",
        "  title =  movie_titles.loc[movie_titles[\"movieId\"]==movieId,\"title\"].item()\n",
        "  return title"
      ]
    },
    {
      "cell_type": "code",
      "execution_count": 6,
      "metadata": {
        "id": "nrBZdhyiAd1X"
      },
      "outputs": [],
      "source": [
        "def get_user_recommended_movies(recs_df, userId):\n",
        "  try:\n",
        "    recommendations = recs_df[recs_df[\"userId\"] == userId][\"recommendations\"]\n",
        "    for movie in recommendations[0]:\n",
        "      print(f\"Movie: \\n{get_movie_title_from_id(movie[0])}\\nPredicted Rating: {movie[1]}\\n\")\n",
        "  except:\n",
        "    print(\"That userId does not exist in the dataset.  Try another.\")"
      ]
    },
    {
      "cell_type": "markdown",
      "metadata": {
        "id": "bhOKTRChp_sd"
      },
      "source": [
        "## Import Data"
      ]
    },
    {
      "cell_type": "code",
      "execution_count": 7,
      "metadata": {
        "colab": {
          "base_uri": "https://localhost:8080/"
        },
        "id": "6Ze-nFFcqAhK",
        "outputId": "47863aba-9ca4-4501-eb80-af1c9ad1c754"
      },
      "outputs": [
        {
          "output_type": "stream",
          "name": "stdout",
          "text": [
            "Master :  local[*]\n",
            "Cores  :  2\n"
          ]
        }
      ],
      "source": [
        "#create SparkSession and SparkContext objects\n",
        "sc = SparkContext.getOrCreate()\n",
        "spark = SparkSession.builder.getOrCreate()\n",
        "print('Master : ', sc.master)\n",
        "print('Cores  : ', sc.defaultParallelism)"
      ]
    },
    {
      "cell_type": "code",
      "execution_count": 8,
      "metadata": {
        "colab": {
          "base_uri": "https://localhost:8080/",
          "height": 206
        },
        "id": "nzlxKDBYCuzX",
        "outputId": "b8e4e458-4797-46b7-9fb0-0566d6b4ce67"
      },
      "outputs": [
        {
          "output_type": "execute_result",
          "data": {
            "text/html": [
              "\n",
              "  <div id=\"df-22971e68-57cc-4ed0-81a2-e33ebe2c0bbe\">\n",
              "    <div class=\"colab-df-container\">\n",
              "      <div>\n",
              "<style scoped>\n",
              "    .dataframe tbody tr th:only-of-type {\n",
              "        vertical-align: middle;\n",
              "    }\n",
              "\n",
              "    .dataframe tbody tr th {\n",
              "        vertical-align: top;\n",
              "    }\n",
              "\n",
              "    .dataframe thead th {\n",
              "        text-align: right;\n",
              "    }\n",
              "</style>\n",
              "<table border=\"1\" class=\"dataframe\">\n",
              "  <thead>\n",
              "    <tr style=\"text-align: right;\">\n",
              "      <th></th>\n",
              "      <th>movieId</th>\n",
              "      <th>title</th>\n",
              "      <th>genres</th>\n",
              "    </tr>\n",
              "  </thead>\n",
              "  <tbody>\n",
              "    <tr>\n",
              "      <th>0</th>\n",
              "      <td>1</td>\n",
              "      <td>Toy Story (1995)</td>\n",
              "      <td>Adventure|Animation|Children|Comedy|Fantasy</td>\n",
              "    </tr>\n",
              "    <tr>\n",
              "      <th>1</th>\n",
              "      <td>2</td>\n",
              "      <td>Jumanji (1995)</td>\n",
              "      <td>Adventure|Children|Fantasy</td>\n",
              "    </tr>\n",
              "    <tr>\n",
              "      <th>2</th>\n",
              "      <td>3</td>\n",
              "      <td>Grumpier Old Men (1995)</td>\n",
              "      <td>Comedy|Romance</td>\n",
              "    </tr>\n",
              "    <tr>\n",
              "      <th>3</th>\n",
              "      <td>4</td>\n",
              "      <td>Waiting to Exhale (1995)</td>\n",
              "      <td>Comedy|Drama|Romance</td>\n",
              "    </tr>\n",
              "    <tr>\n",
              "      <th>4</th>\n",
              "      <td>5</td>\n",
              "      <td>Father of the Bride Part II (1995)</td>\n",
              "      <td>Comedy</td>\n",
              "    </tr>\n",
              "  </tbody>\n",
              "</table>\n",
              "</div>\n",
              "      <button class=\"colab-df-convert\" onclick=\"convertToInteractive('df-22971e68-57cc-4ed0-81a2-e33ebe2c0bbe')\"\n",
              "              title=\"Convert this dataframe to an interactive table.\"\n",
              "              style=\"display:none;\">\n",
              "        \n",
              "  <svg xmlns=\"http://www.w3.org/2000/svg\" height=\"24px\"viewBox=\"0 0 24 24\"\n",
              "       width=\"24px\">\n",
              "    <path d=\"M0 0h24v24H0V0z\" fill=\"none\"/>\n",
              "    <path d=\"M18.56 5.44l.94 2.06.94-2.06 2.06-.94-2.06-.94-.94-2.06-.94 2.06-2.06.94zm-11 1L8.5 8.5l.94-2.06 2.06-.94-2.06-.94L8.5 2.5l-.94 2.06-2.06.94zm10 10l.94 2.06.94-2.06 2.06-.94-2.06-.94-.94-2.06-.94 2.06-2.06.94z\"/><path d=\"M17.41 7.96l-1.37-1.37c-.4-.4-.92-.59-1.43-.59-.52 0-1.04.2-1.43.59L10.3 9.45l-7.72 7.72c-.78.78-.78 2.05 0 2.83L4 21.41c.39.39.9.59 1.41.59.51 0 1.02-.2 1.41-.59l7.78-7.78 2.81-2.81c.8-.78.8-2.07 0-2.86zM5.41 20L4 18.59l7.72-7.72 1.47 1.35L5.41 20z\"/>\n",
              "  </svg>\n",
              "      </button>\n",
              "      \n",
              "  <style>\n",
              "    .colab-df-container {\n",
              "      display:flex;\n",
              "      flex-wrap:wrap;\n",
              "      gap: 12px;\n",
              "    }\n",
              "\n",
              "    .colab-df-convert {\n",
              "      background-color: #E8F0FE;\n",
              "      border: none;\n",
              "      border-radius: 50%;\n",
              "      cursor: pointer;\n",
              "      display: none;\n",
              "      fill: #1967D2;\n",
              "      height: 32px;\n",
              "      padding: 0 0 0 0;\n",
              "      width: 32px;\n",
              "    }\n",
              "\n",
              "    .colab-df-convert:hover {\n",
              "      background-color: #E2EBFA;\n",
              "      box-shadow: 0px 1px 2px rgba(60, 64, 67, 0.3), 0px 1px 3px 1px rgba(60, 64, 67, 0.15);\n",
              "      fill: #174EA6;\n",
              "    }\n",
              "\n",
              "    [theme=dark] .colab-df-convert {\n",
              "      background-color: #3B4455;\n",
              "      fill: #D2E3FC;\n",
              "    }\n",
              "\n",
              "    [theme=dark] .colab-df-convert:hover {\n",
              "      background-color: #434B5C;\n",
              "      box-shadow: 0px 1px 3px 1px rgba(0, 0, 0, 0.15);\n",
              "      filter: drop-shadow(0px 1px 2px rgba(0, 0, 0, 0.3));\n",
              "      fill: #FFFFFF;\n",
              "    }\n",
              "  </style>\n",
              "\n",
              "      <script>\n",
              "        const buttonEl =\n",
              "          document.querySelector('#df-22971e68-57cc-4ed0-81a2-e33ebe2c0bbe button.colab-df-convert');\n",
              "        buttonEl.style.display =\n",
              "          google.colab.kernel.accessAllowed ? 'block' : 'none';\n",
              "\n",
              "        async function convertToInteractive(key) {\n",
              "          const element = document.querySelector('#df-22971e68-57cc-4ed0-81a2-e33ebe2c0bbe');\n",
              "          const dataTable =\n",
              "            await google.colab.kernel.invokeFunction('convertToInteractive',\n",
              "                                                     [key], {});\n",
              "          if (!dataTable) return;\n",
              "\n",
              "          const docLinkHtml = 'Like what you see? Visit the ' +\n",
              "            '<a target=\"_blank\" href=https://colab.research.google.com/notebooks/data_table.ipynb>data table notebook</a>'\n",
              "            + ' to learn more about interactive tables.';\n",
              "          element.innerHTML = '';\n",
              "          dataTable['output_type'] = 'display_data';\n",
              "          await google.colab.output.renderOutput(dataTable, element);\n",
              "          const docLink = document.createElement('div');\n",
              "          docLink.innerHTML = docLinkHtml;\n",
              "          element.appendChild(docLink);\n",
              "        }\n",
              "      </script>\n",
              "    </div>\n",
              "  </div>\n",
              "  "
            ],
            "text/plain": [
              "   movieId                               title  \\\n",
              "0        1                    Toy Story (1995)   \n",
              "1        2                      Jumanji (1995)   \n",
              "2        3             Grumpier Old Men (1995)   \n",
              "3        4            Waiting to Exhale (1995)   \n",
              "4        5  Father of the Bride Part II (1995)   \n",
              "\n",
              "                                        genres  \n",
              "0  Adventure|Animation|Children|Comedy|Fantasy  \n",
              "1                   Adventure|Children|Fantasy  \n",
              "2                               Comedy|Romance  \n",
              "3                         Comedy|Drama|Romance  \n",
              "4                                       Comedy  "
            ]
          },
          "metadata": {},
          "execution_count": 8
        }
      ],
      "source": [
        "import pandas as pd\n",
        "\n",
        "file_path = INPUT_DIRECTORY + \"movies.csv\"\n",
        "movie_titles = pd.read_csv(file_path)\n",
        "movie_titles.head()"
      ]
    },
    {
      "cell_type": "code",
      "execution_count": 9,
      "metadata": {
        "colab": {
          "base_uri": "https://localhost:8080/"
        },
        "id": "arqOB2xKqGAO",
        "outputId": "54d5dd21-ab01-4092-ff4a-38cb15da9c8d"
      },
      "outputs": [
        {
          "output_type": "stream",
          "name": "stdout",
          "text": [
            "+------+-------+------+---------+\n",
            "|userId|movieId|rating|timestamp|\n",
            "+------+-------+------+---------+\n",
            "|     1|      1|   4.0|964982703|\n",
            "|     1|      3|   4.0|964981247|\n",
            "|     1|      6|   4.0|964982224|\n",
            "|     1|     47|   5.0|964983815|\n",
            "|     1|     50|   5.0|964982931|\n",
            "+------+-------+------+---------+\n",
            "only showing top 5 rows\n",
            "\n"
          ]
        }
      ],
      "source": [
        "#Import data\n",
        "file_path = INPUT_DIRECTORY + \"ratings.csv\"\n",
        "ratings = spark.read.csv(file_path, header=True, inferSchema=True)\n",
        "ratings.show(5)"
      ]
    },
    {
      "cell_type": "markdown",
      "metadata": {
        "id": "JBfUm4CKqMc2"
      },
      "source": [
        "## ALS Model Creation"
      ]
    },
    {
      "cell_type": "markdown",
      "metadata": {
        "id": "ai7buVMuqUPF"
      },
      "source": [
        "We'll split our data 80/20% into training/testing sets and set `seed` to 1 for reproducibility:"
      ]
    },
    {
      "cell_type": "code",
      "execution_count": 10,
      "metadata": {
        "id": "4MK5lC5zqNIB"
      },
      "outputs": [],
      "source": [
        "ratings = ratings.select(\"userId\", \"movieId\", \"rating\")\n",
        "(training_data, test_data) = ratings.randomSplit([.8, .2], seed=42)"
      ]
    },
    {
      "cell_type": "markdown",
      "metadata": {
        "id": "mPnh_5G6qWV1"
      },
      "source": [
        "Initialize our model.  We'll set the following parameters before optimizing hyperparameters:\n",
        "- `nonnegative`: `True`. We only want non-negative numbers, as a negative rating has no meaning in this context.  \n",
        "- `coldStartStrategy`: `\"drop\"`.  Helps avoid situations where all of a user's ratings are added to the training set only.  This data will not be used when calculating RMSE, because predictions on these users would be meaningless because there is nothing to test.\n",
        "- `implicitPrefs`: `False`.  We have actual ratings, so we don't need to use implicit feedback."
      ]
    },
    {
      "cell_type": "code",
      "execution_count": 11,
      "metadata": {
        "id": "sWcfuKHgqWtV"
      },
      "outputs": [],
      "source": [
        "from pyspark.ml.recommendation import ALS\n",
        "\n",
        "als = ALS(userCol=\"userId\", itemCol=\"movieId\", ratingCol=\"rating\", \n",
        "          nonnegative = True, coldStartStrategy = \"drop\", implicitPrefs = False)"
      ]
    },
    {
      "cell_type": "markdown",
      "metadata": {
        "id": "f0uya_gYqYbn"
      },
      "source": [
        "Now we'll build our `ParamGridBuilder`:"
      ]
    },
    {
      "cell_type": "code",
      "execution_count": 12,
      "metadata": {
        "id": "b55oJnocqZeB"
      },
      "outputs": [],
      "source": [
        "from pyspark.ml.tuning import ParamGridBuilder\n",
        "\n",
        "param_grid = ParamGridBuilder() \\\n",
        "                  .addGrid(als.rank, [5, 20]) \\\n",
        "                  .addGrid(als.maxIter, [5]) \\\n",
        "                  .addGrid(als.regParam, [0.01, 0.05, 1]) \\\n",
        "                  .build()"
      ]
    },
    {
      "cell_type": "markdown",
      "metadata": {
        "id": "tIen1IvdqanS"
      },
      "source": [
        "Next, we'll create our evaluator and use RMSE as our metric:"
      ]
    },
    {
      "cell_type": "code",
      "execution_count": 13,
      "metadata": {
        "colab": {
          "base_uri": "https://localhost:8080/"
        },
        "id": "QoerGnB0qawd",
        "outputId": "f7a7fcea-f7da-4687-b552-141cde13d26a"
      },
      "outputs": [
        {
          "output_type": "stream",
          "name": "stdout",
          "text": [
            "Num models to be tested:  6\n"
          ]
        }
      ],
      "source": [
        "from pyspark.ml.evaluation import RegressionEvaluator\n",
        "\n",
        "evaluator = RegressionEvaluator(metricName=\"rmse\", labelCol=\"rating\", predictionCol=\"prediction\") \n",
        "print (\"Num models to be tested: \", len(param_grid))"
      ]
    },
    {
      "cell_type": "markdown",
      "metadata": {
        "id": "zS-G421YqcWM"
      },
      "source": [
        "Create CrossValidator:"
      ]
    },
    {
      "cell_type": "code",
      "execution_count": 14,
      "metadata": {
        "id": "zbm4OzbGqc0d"
      },
      "outputs": [],
      "source": [
        "from pyspark.ml.tuning import CrossValidator\n",
        "\n",
        "cv = CrossValidator(estimator = als, \n",
        "                    estimatorParamMaps= param_grid,\n",
        "                    evaluator = evaluator,\n",
        "                    numFolds = 5)"
      ]
    },
    {
      "cell_type": "markdown",
      "metadata": {
        "id": "roWfoHzlqeO0"
      },
      "source": [
        "Fit Data:"
      ]
    },
    {
      "cell_type": "code",
      "execution_count": 15,
      "metadata": {
        "id": "SaGGVqMYqgfp"
      },
      "outputs": [],
      "source": [
        "model = cv.fit(training_data)\n",
        "\n",
        "best_model = model.bestModel"
      ]
    },
    {
      "cell_type": "markdown",
      "metadata": {
        "id": "yEj2Hq_wqfY5"
      },
      "source": [
        "Get information on the best model:"
      ]
    },
    {
      "cell_type": "code",
      "execution_count": 16,
      "metadata": {
        "colab": {
          "base_uri": "https://localhost:8080/"
        },
        "id": "KG3bJu_fqfB1",
        "outputId": "e821ad3e-7bc5-4bc1-a74c-76fc6bc911cd"
      },
      "outputs": [
        {
          "output_type": "stream",
          "name": "stdout",
          "text": [
            "<class 'pyspark.ml.recommendation.ALSModel'>\n",
            "\n",
            "**Best Model**\n",
            "  Rank: 5\n",
            "  MaxIter: 5\n",
            "  RegParam: 0.05\n"
          ]
        }
      ],
      "source": [
        "print(type(best_model))\n",
        "\n",
        "print(\"\\n**Best Model**\")\n",
        "print(\"  Rank:\", best_model.rank)\n",
        "print(\"  MaxIter:\", best_model._java_obj.parent().getMaxIter())\n",
        "print(\"  RegParam:\", best_model._java_obj.parent().getRegParam())"
      ]
    },
    {
      "cell_type": "markdown",
      "metadata": {
        "id": "noN4sgaNqkbU"
      },
      "source": [
        "## Performance Evaluation"
      ]
    },
    {
      "cell_type": "markdown",
      "metadata": {
        "id": "NaNU61Amrrke"
      },
      "source": [
        "Let's generate predictions on the test data:"
      ]
    },
    {
      "cell_type": "code",
      "execution_count": 17,
      "metadata": {
        "colab": {
          "base_uri": "https://localhost:8080/"
        },
        "id": "R1oSkgApruaa",
        "outputId": "c39a8494-d587-4044-ad61-bf5a1b90f22c"
      },
      "outputs": [
        {
          "output_type": "stream",
          "name": "stdout",
          "text": [
            "+------+-------+------+----------+\n",
            "|userId|movieId|rating|prediction|\n",
            "+------+-------+------+----------+\n",
            "|   148|   4896|   4.0| 3.9599009|\n",
            "|   148|   5618|   3.0| 3.5422423|\n",
            "|   148|   7153|   3.0| 3.4854343|\n",
            "|   148|  40629|   5.0| 3.5832977|\n",
            "|   148|  40815|   4.0| 3.8895757|\n",
            "+------+-------+------+----------+\n",
            "only showing top 5 rows\n",
            "\n"
          ]
        }
      ],
      "source": [
        "test_predictions = best_model.transform(test_data)\n",
        "test_predictions.show(5)"
      ]
    },
    {
      "cell_type": "code",
      "execution_count": 18,
      "metadata": {
        "colab": {
          "base_uri": "https://localhost:8080/"
        },
        "id": "Xhya51RDqlQG",
        "outputId": "f1543865-e032-4779-ce34-996086222f1e"
      },
      "outputs": [
        {
          "output_type": "stream",
          "name": "stdout",
          "text": [
            "0.9067385152011598\n"
          ]
        }
      ],
      "source": [
        "# Evaluate the \"test_predictions\" dataframe\n",
        "RMSE = evaluator.evaluate(test_predictions)\n",
        "\n",
        "# Print the RMSE\n",
        "print(RMSE)"
      ]
    },
    {
      "cell_type": "markdown",
      "metadata": {
        "id": "_sWCT11PAYrO"
      },
      "source": [
        "## Generate Recommendations:"
      ]
    },
    {
      "cell_type": "code",
      "execution_count": 19,
      "metadata": {
        "colab": {
          "base_uri": "https://localhost:8080/"
        },
        "id": "bNc8zsKY-VCT",
        "outputId": "18ea3707-b0c2-4560-f3b4-d8f85fc88ac6"
      },
      "outputs": [
        {
          "output_type": "stream",
          "name": "stderr",
          "text": [
            "/usr/local/lib/python3.7/dist-packages/pyspark/sql/context.py:127: FutureWarning: Deprecated in 3.0.0. Use SparkSession.builder.getOrCreate() instead.\n",
            "  FutureWarning\n"
          ]
        },
        {
          "output_type": "stream",
          "name": "stdout",
          "text": [
            "+------+--------------------------------------------------------------------------------------------------------+\n",
            "|userId|recommendations                                                                                         |\n",
            "+------+--------------------------------------------------------------------------------------------------------+\n",
            "|1     |[{3925, 6.8391747}, {6650, 6.6011796}, {6466, 6.45329}, {26326, 6.414953}, {6732, 6.382272}]            |\n",
            "|2     |[{53280, 5.8650575}, {131610, 5.8650575}, {118270, 5.8650575}, {139640, 5.8650575}, {147410, 5.8650575}]|\n",
            "|3     |[{8199, 5.161934}, {89118, 5.154572}, {6835, 5.1420116}, {5746, 5.1420116}, {4082, 5.087744}]           |\n",
            "|4     |[{25825, 6.0427566}, {25850, 5.835905}, {7579, 5.455319}, {522, 5.2856746}, {7327, 5.2136507}]          |\n",
            "|5     |[{3925, 5.8003283}, {6650, 5.6072183}, {2843, 5.3271284}, {94070, 5.248757}, {51931, 5.227279}]         |\n",
            "+------+--------------------------------------------------------------------------------------------------------+\n",
            "only showing top 5 rows\n",
            "\n"
          ]
        }
      ],
      "source": [
        "# Generate top 10 movie recommendations for each user\n",
        "userRecs = best_model.recommendForAllUsers(5)\n",
        "userRecs.show(5, truncate=False)"
      ]
    },
    {
      "cell_type": "code",
      "execution_count": 20,
      "metadata": {
        "colab": {
          "base_uri": "https://localhost:8080/",
          "height": 206
        },
        "id": "pF7ALup6BG1P",
        "outputId": "4b4982ca-6ccf-40b8-d476-b4f7bab1a7f0"
      },
      "outputs": [
        {
          "output_type": "execute_result",
          "data": {
            "text/html": [
              "\n",
              "  <div id=\"df-3cc6dd3e-9fdd-4617-a7b7-4d7d7b691c97\">\n",
              "    <div class=\"colab-df-container\">\n",
              "      <div>\n",
              "<style scoped>\n",
              "    .dataframe tbody tr th:only-of-type {\n",
              "        vertical-align: middle;\n",
              "    }\n",
              "\n",
              "    .dataframe tbody tr th {\n",
              "        vertical-align: top;\n",
              "    }\n",
              "\n",
              "    .dataframe thead th {\n",
              "        text-align: right;\n",
              "    }\n",
              "</style>\n",
              "<table border=\"1\" class=\"dataframe\">\n",
              "  <thead>\n",
              "    <tr style=\"text-align: right;\">\n",
              "      <th></th>\n",
              "      <th>userId</th>\n",
              "      <th>recommendations</th>\n",
              "    </tr>\n",
              "  </thead>\n",
              "  <tbody>\n",
              "    <tr>\n",
              "      <th>0</th>\n",
              "      <td>1</td>\n",
              "      <td>[(3925, 6.839174747467041), (6650, 6.601179599...</td>\n",
              "    </tr>\n",
              "    <tr>\n",
              "      <th>1</th>\n",
              "      <td>2</td>\n",
              "      <td>[(53280, 5.865057468414307), (131610, 5.865057...</td>\n",
              "    </tr>\n",
              "    <tr>\n",
              "      <th>2</th>\n",
              "      <td>3</td>\n",
              "      <td>[(8199, 5.161933898925781), (89118, 5.15457201...</td>\n",
              "    </tr>\n",
              "    <tr>\n",
              "      <th>3</th>\n",
              "      <td>4</td>\n",
              "      <td>[(25825, 6.0427565574646), (25850, 5.835905075...</td>\n",
              "    </tr>\n",
              "    <tr>\n",
              "      <th>4</th>\n",
              "      <td>5</td>\n",
              "      <td>[(3925, 5.800328254699707), (6650, 5.607218265...</td>\n",
              "    </tr>\n",
              "  </tbody>\n",
              "</table>\n",
              "</div>\n",
              "      <button class=\"colab-df-convert\" onclick=\"convertToInteractive('df-3cc6dd3e-9fdd-4617-a7b7-4d7d7b691c97')\"\n",
              "              title=\"Convert this dataframe to an interactive table.\"\n",
              "              style=\"display:none;\">\n",
              "        \n",
              "  <svg xmlns=\"http://www.w3.org/2000/svg\" height=\"24px\"viewBox=\"0 0 24 24\"\n",
              "       width=\"24px\">\n",
              "    <path d=\"M0 0h24v24H0V0z\" fill=\"none\"/>\n",
              "    <path d=\"M18.56 5.44l.94 2.06.94-2.06 2.06-.94-2.06-.94-.94-2.06-.94 2.06-2.06.94zm-11 1L8.5 8.5l.94-2.06 2.06-.94-2.06-.94L8.5 2.5l-.94 2.06-2.06.94zm10 10l.94 2.06.94-2.06 2.06-.94-2.06-.94-.94-2.06-.94 2.06-2.06.94z\"/><path d=\"M17.41 7.96l-1.37-1.37c-.4-.4-.92-.59-1.43-.59-.52 0-1.04.2-1.43.59L10.3 9.45l-7.72 7.72c-.78.78-.78 2.05 0 2.83L4 21.41c.39.39.9.59 1.41.59.51 0 1.02-.2 1.41-.59l7.78-7.78 2.81-2.81c.8-.78.8-2.07 0-2.86zM5.41 20L4 18.59l7.72-7.72 1.47 1.35L5.41 20z\"/>\n",
              "  </svg>\n",
              "      </button>\n",
              "      \n",
              "  <style>\n",
              "    .colab-df-container {\n",
              "      display:flex;\n",
              "      flex-wrap:wrap;\n",
              "      gap: 12px;\n",
              "    }\n",
              "\n",
              "    .colab-df-convert {\n",
              "      background-color: #E8F0FE;\n",
              "      border: none;\n",
              "      border-radius: 50%;\n",
              "      cursor: pointer;\n",
              "      display: none;\n",
              "      fill: #1967D2;\n",
              "      height: 32px;\n",
              "      padding: 0 0 0 0;\n",
              "      width: 32px;\n",
              "    }\n",
              "\n",
              "    .colab-df-convert:hover {\n",
              "      background-color: #E2EBFA;\n",
              "      box-shadow: 0px 1px 2px rgba(60, 64, 67, 0.3), 0px 1px 3px 1px rgba(60, 64, 67, 0.15);\n",
              "      fill: #174EA6;\n",
              "    }\n",
              "\n",
              "    [theme=dark] .colab-df-convert {\n",
              "      background-color: #3B4455;\n",
              "      fill: #D2E3FC;\n",
              "    }\n",
              "\n",
              "    [theme=dark] .colab-df-convert:hover {\n",
              "      background-color: #434B5C;\n",
              "      box-shadow: 0px 1px 3px 1px rgba(0, 0, 0, 0.15);\n",
              "      filter: drop-shadow(0px 1px 2px rgba(0, 0, 0, 0.3));\n",
              "      fill: #FFFFFF;\n",
              "    }\n",
              "  </style>\n",
              "\n",
              "      <script>\n",
              "        const buttonEl =\n",
              "          document.querySelector('#df-3cc6dd3e-9fdd-4617-a7b7-4d7d7b691c97 button.colab-df-convert');\n",
              "        buttonEl.style.display =\n",
              "          google.colab.kernel.accessAllowed ? 'block' : 'none';\n",
              "\n",
              "        async function convertToInteractive(key) {\n",
              "          const element = document.querySelector('#df-3cc6dd3e-9fdd-4617-a7b7-4d7d7b691c97');\n",
              "          const dataTable =\n",
              "            await google.colab.kernel.invokeFunction('convertToInteractive',\n",
              "                                                     [key], {});\n",
              "          if (!dataTable) return;\n",
              "\n",
              "          const docLinkHtml = 'Like what you see? Visit the ' +\n",
              "            '<a target=\"_blank\" href=https://colab.research.google.com/notebooks/data_table.ipynb>data table notebook</a>'\n",
              "            + ' to learn more about interactive tables.';\n",
              "          element.innerHTML = '';\n",
              "          dataTable['output_type'] = 'display_data';\n",
              "          await google.colab.output.renderOutput(dataTable, element);\n",
              "          const docLink = document.createElement('div');\n",
              "          docLink.innerHTML = docLinkHtml;\n",
              "          element.appendChild(docLink);\n",
              "        }\n",
              "      </script>\n",
              "    </div>\n",
              "  </div>\n",
              "  "
            ],
            "text/plain": [
              "   userId                                    recommendations\n",
              "0       1  [(3925, 6.839174747467041), (6650, 6.601179599...\n",
              "1       2  [(53280, 5.865057468414307), (131610, 5.865057...\n",
              "2       3  [(8199, 5.161933898925781), (89118, 5.15457201...\n",
              "3       4  [(25825, 6.0427565574646), (25850, 5.835905075...\n",
              "4       5  [(3925, 5.800328254699707), (6650, 5.607218265..."
            ]
          },
          "metadata": {},
          "execution_count": 20
        }
      ],
      "source": [
        "userRecs_pandas = userRecs.toPandas()\n",
        "userRecs_pandas.head()"
      ]
    },
    {
      "cell_type": "code",
      "execution_count": 21,
      "metadata": {
        "colab": {
          "base_uri": "https://localhost:8080/",
          "height": 35
        },
        "id": "fr8Cd7JIBj9P",
        "outputId": "5b3680cf-46df-4352-8aa7-1afa3f9d98b9"
      },
      "outputs": [
        {
          "output_type": "execute_result",
          "data": {
            "application/vnd.google.colaboratory.intrinsic+json": {
              "type": "string"
            },
            "text/plain": [
              "'GoldenEye (1995)'"
            ]
          },
          "metadata": {},
          "execution_count": 21
        }
      ],
      "source": [
        "get_movie_title_from_id(10)"
      ]
    },
    {
      "cell_type": "code",
      "execution_count": 22,
      "metadata": {
        "colab": {
          "base_uri": "https://localhost:8080/"
        },
        "id": "r1ZWvm-oB5hA",
        "outputId": "d799d606-12b4-4d37-a056-f43723588410"
      },
      "outputs": [
        {
          "output_type": "stream",
          "name": "stdout",
          "text": [
            "Movie: \n",
            "Stranger Than Paradise (1984)\n",
            "Predicted Rating: 6.839174747467041\n",
            "\n",
            "Movie: \n",
            "Kind Hearts and Coronets (1949)\n",
            "Predicted Rating: 6.601179599761963\n",
            "\n",
            "Movie: \n",
            "Mississippi Masala (1991)\n",
            "Predicted Rating: 6.453289985656738\n",
            "\n",
            "Movie: \n",
            "Holy Mountain, The (Montaña sagrada, La) (1973)\n",
            "Predicted Rating: 6.414953231811523\n",
            "\n",
            "Movie: \n",
            "Hello, Dolly! (1969)\n",
            "Predicted Rating: 6.382271766662598\n",
            "\n"
          ]
        }
      ],
      "source": [
        "get_user_recommended_movies(userRecs_pandas, 1)"
      ]
    },
    {
      "cell_type": "code",
      "execution_count": 23,
      "metadata": {
        "colab": {
          "base_uri": "https://localhost:8080/"
        },
        "id": "LPZwsLXnF9Zm",
        "outputId": "2ccc32c3-bb76-4372-cbb2-02fb70f95055"
      },
      "outputs": [
        {
          "output_type": "stream",
          "name": "stdout",
          "text": [
            "That userId does not exist in the dataset.  Try another.\n"
          ]
        }
      ],
      "source": [
        "#try a user that doesn't exist\n",
        "get_user_recommended_movies(userRecs_pandas, 2)"
      ]
    },
    {
      "cell_type": "markdown",
      "metadata": {
        "id": "9S__OoStUvH4"
      },
      "source": [
        "**View the `Part3_ContentBased.ipynb` file to see:**\n",
        "- ALS Model Creation with Content-Based Filtering"
      ]
    }
  ],
  "metadata": {
    "colab": {
      "collapsed_sections": [],
      "name": "Part2_CollaborativeFiltering.ipynb",
      "provenance": []
    },
    "kernelspec": {
      "display_name": "Python 3 (ipykernel)",
      "language": "python",
      "name": "python3"
    },
    "language_info": {
      "codemirror_mode": {
        "name": "ipython",
        "version": 3
      },
      "file_extension": ".py",
      "mimetype": "text/x-python",
      "name": "python",
      "nbconvert_exporter": "python",
      "pygments_lexer": "ipython3",
      "version": "3.10.1"
    }
  },
  "nbformat": 4,
  "nbformat_minor": 0
}